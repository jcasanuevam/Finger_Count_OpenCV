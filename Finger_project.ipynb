{
 "metadata": {
  "language_info": {
   "codemirror_mode": {
    "name": "ipython",
    "version": 3
   },
   "file_extension": ".py",
   "mimetype": "text/x-python",
   "name": "python",
   "nbconvert_exporter": "python",
   "pygments_lexer": "ipython3",
   "version": "3.7.9-final"
  },
  "orig_nbformat": 2,
  "kernelspec": {
   "name": "python3",
   "display_name": "Python 3.7.9 64-bit ('tensorflow_gpu': conda)",
   "metadata": {
    "interpreter": {
     "hash": "da0e563719489051d7857740b04df7ade9671d1b80936103dc89214c674e690f"
    }
   }
  }
 },
 "nbformat": 4,
 "nbformat_minor": 2,
 "cells": [
  {
   "source": [
    "# FINGERS COUNT COMPUTER VISION PROJECT"
   ],
   "cell_type": "markdown",
   "metadata": {}
  },
  {
   "source": [
    "## Descripción del proyecto"
   ],
   "cell_type": "markdown",
   "metadata": {}
  },
  {
   "source": [
    "Este proyecto se trata del ejercicio final del curso 'Python for Computer Vision with OpenCV and Deep Learning' de José Marcial Portilla en Udemy.\n",
    "\n",
    "En él vamos a ser capaces de detectar una mano, segmentarla y contar los dedos de la misma que se están mostrando gracias a la librería de Python'OpenCV', muy popular dentro del campo de la visión por ordenador.\n",
    "\n",
    "**NOTA: No se trata de un tutorial sobre cómo funciona OpenCV y sus diferentes funciones, por lo que no entraré a explicar en detalle lo que hace cada uno de sus métodos utilizados. Se trata de una explicación sobre cómo se ha resuelto el problema enunciado anteriormente haciendo uso de las herramientas que nos ofrece OpenCV."
   ],
   "cell_type": "markdown",
   "metadata": {}
  },
  {
   "source": [
    "## Solución"
   ],
   "cell_type": "markdown",
   "metadata": {}
  },
  {
   "source": [
    "La estrategia a seguir será la siguiente:\n",
    "- Definiremos una región de interés (ROI, Region Of Interest) en nuestra imagen captada por la cámara.\n",
    "- Calcularemos el valor medio de los pixeles del background (fondo) de esa ROI para, por ejemplo, los primeros 60 frames del video, para así poder detectar cuando la mano se ha introducido en la ROI.\n",
    "- Una vez ese valor se ha calculado, podemos introducir la mano en esa ROI para que sea detectada. En esa fase aplicaremos thresholding para ayudarnos a extraer la mano de la ROI.\n",
    "- Una vez la mano esté dentro de la ROI, usaremos la écnica 'Convex Hull' para dibujar un polígono alrededor de la mano.\n",
    "- Calcularemos el centro (aproximado) de la mano como la intersección entre los puntos más extremos del polígono.\n",
    "- Dibujaremos un circulo de radio algo menor (parámetro que tendremos que jugar con él para afinar el código) a la distancia entre el centro de la mano y el vértice del polígono  más alejado de éste.\n",
    "- Posteriormente detectaremos los contornos que están fuera e ese circulo, que corresponderan a los contornos de los dedos.\n",
    "- Contando el nº de contornos podremos saber el número de dedos que están alejados de ese circulo y por lo tanto extendidos."
   ],
   "cell_type": "markdown",
   "metadata": {}
  },
  {
   "source": [
    "### Definición de variables globales"
   ],
   "cell_type": "markdown",
   "metadata": {}
  },
  {
   "source": [
    "En primer lugar, además de importar las librerias que usaremos en el código, definiremos las variables globales del problema.\n",
    "\n",
    "Estas son la región de interés (ROI, Region Of Interest) de nuestra imagen, donde introduciremos la mano para que sea detectada, y el fondo de la ROI (background) que al iniciar nuestro programa nos servirá para calcular el valor medio de los pixels de la ROI para poder detectar la mano una vez sea introducida. Al introducir la mano en la ROI el valor de los pixeles cambiará y sabremos que un objeto ha entrado."
   ],
   "cell_type": "markdown",
   "metadata": {}
  },
  {
   "cell_type": "code",
   "execution_count": null,
   "metadata": {},
   "outputs": [],
   "source": [
    "#Importamos las librerias que vamos a usar\n",
    "import cv2\n",
    "import numpy as np\n",
    "from sklearn.metrics import pairwise #Para calcular distancias"
   ]
  },
  {
   "cell_type": "code",
   "execution_count": null,
   "metadata": {},
   "outputs": [],
   "source": [
    "#VARIABLES GLOBALES\n",
    "background = None  #Se irá actualizando su valor\n",
    "accumulated_weight = 0.5\n",
    "\n",
    "#Definimos la región de interés (ROI, Region Of Interest) donde introduciremos la mano para que sea detectada\n",
    "roi_top = 20\n",
    "roi_bottom =300\n",
    "roi_right = 300\n",
    "roi_left = 600"
   ]
  },
  {
   "source": [
    "### Función para calcular el valor medio de los pixeles del background de la ROI"
   ],
   "cell_type": "markdown",
   "metadata": {}
  },
  {
   "source": [
    "A continuación el código de la función que nos calculará la media del valor de los pixeles del background:"
   ],
   "cell_type": "markdown",
   "metadata": {}
  },
  {
   "source": [
    "<img src=\"images\\ROI_1.png\"> <img src=\"images\\ROI_2.png\"> "
   ],
   "cell_type": "markdown",
   "metadata": {}
  },
  {
   "cell_type": "code",
   "execution_count": null,
   "metadata": {},
   "outputs": [],
   "source": [
    "#FUNCIÓN QUE NOS DARÁ LA MEDIA DEL VALOR DE FONDO (AVERAGE BACKGROUND VALUE)\n",
    "def calc_accum_avg(frame, accumulated_weight):\n",
    "    global background\n",
    "\n",
    "    if background is None:\n",
    "        background = frame.copy().astype('float')\n",
    "        return None\n",
    "    \n",
    "    #Actualizar la variable global 'background' con el 'accumulated_weight'\n",
    "    cv2.accumulateWeighted(frame, background, accumulated_weight)"
   ]
  },
  {
   "source": [
    "### Función para extraer la mano en la ROI"
   ],
   "cell_type": "markdown",
   "metadata": {}
  },
  {
   "source": [
    "Función que nos extraerá la mano de la ROI, haciendo uso del método 'threshold' y 'findContours' de 'OpenCV'. El threshold lo que hace es cambiar el color de los pixels de la imagen que le pases a negro o blanco según un umbral que se establezca (otro parámetro con el que habría que 'jugar' para afinar el código). Si previamente calculamos la diferencia de los pixels entre el background y un nuevo frame, aquellos valores de pixel que no estén cercanos a cero querrán decir que pertenecen a la mano introducida.\n",
    "\n",
    "Con 'findContours' lo que hacemos es detectar los contornos de la mano con el threshold aplicado."
   ],
   "cell_type": "markdown",
   "metadata": {}
  },
  {
   "source": [
    "<img src=\"images\\THRESHOLD.png\"> "
   ],
   "cell_type": "markdown",
   "metadata": {}
  },
  {
   "cell_type": "code",
   "execution_count": null,
   "metadata": {},
   "outputs": [],
   "source": [
    "#FUNCIÓN QUE, A TRAVÉS DEL THRESHOLDING, NOS AYUDARÁ A EXTRAER LA MANO EN LA ROI\n",
    "def segment(frame, threshold_min = 25):\n",
    "\n",
    "    global background\n",
    "    \n",
    "    #Calculamos la diferencia en valor absoluto entre el fondo (background) y el frame que se le pase a la\n",
    "    #función\n",
    "    diff = cv2.absdiff(background.astype('uint8'), frame)\n",
    "\n",
    "    #Aplicamos un threshold a la imagen asi podemos extraer el primer plano (foreground)\n",
    "    ret, thresholded = cv2.threshold(diff, threshold_min, 255, cv2.THRESH_BINARY)\n",
    "\n",
    "    #Extraemos los contornos exteriores de la imagen con el threshold aplicado\n",
    "    contours, hierarchy = cv2.findContours(thresholded.copy(), cv2.RETR_EXTERNAL, cv2.CHAIN_APPROX_SIMPLE)\n",
    "\n",
    "    #Si la lista contours está vacía quiere decir que no hemos extraído ningun contorno\n",
    "    if len(contours) == 0:\n",
    "        return None\n",
    "    \n",
    "    else:\n",
    "        #Si extraemos algún contorno, el contorno externo más grande deberá de ser la mano (asumiendo\n",
    "        # que no se va a introducir un objeto con un contorno más grande que la mano en la ROI)\n",
    "        hand_segment = max(contours, key = cv2.contourArea)\n",
    "\n",
    "        return thresholded, hand_segment"
   ]
  },
  {
   "source": [
    "### Función para contar el nº de dedos"
   ],
   "cell_type": "markdown",
   "metadata": {}
  },
  {
   "source": [
    "Hasta ahora hemos calculado el contorno exterior de la mano. Ahora, usando ese contorno exterior, vamos a ver cómo calcular los dedos para poder contar cuántos están mostrándose.\n",
    "\n",
    "Utilizaremos lo que se conoce como 'Convex Hull' para dibujar un polígono alrededor de la mano.\n",
    "Calcularemos el centro de la mano como la intersección entre los vértices más extremos del polígono (más abajo, más arriba, más a la derecha y más a la izquierda).\n",
    "\n",
    "Posteriormente calcularemos la distancia entre el centro y esos puntos más extremos para ver cuál es la mayor distancia. Una vez calculada dibujaremos un circulo centrado en el centro de la mano con radio algo menor a la máxima distancia. Los dedos cuyos extremos estén fuera de ese circulo o suficientemente lejos del punto más bajo del polígono serán considerados como dedos extendidos."
   ],
   "cell_type": "markdown",
   "metadata": {}
  },
  {
   "source": [
    "<img src=\"images\\hand_convex.png\"> <img src=\"images\\DISTANCE.png\" alt=\"Drawing\" style=\"width: 300px;\"/> <img src=\"images\\circle.png\" alt=\"Drawing\" style=\"width: 295px;\"/>"
   ],
   "cell_type": "markdown",
   "metadata": {}
  },
  {
   "cell_type": "code",
   "execution_count": null,
   "metadata": {},
   "outputs": [],
   "source": [
    "def count_fingers(thresholded, hand_segment):\n",
    "\n",
    "    conv_hull = cv2.convexHull(hand_segment)\n",
    "\n",
    "    #Punto más elevado del polígono\n",
    "    top = tuple(conv_hull[conv_hull[:,:,1].argmin()][0])\n",
    "    #Punto más bajo del polígono\n",
    "    bottom = tuple(conv_hull[conv_hull[:,:,1].argmax()][0])\n",
    "    #Punto más a la izquierda del polígono\n",
    "    left = tuple(conv_hull[conv_hull[:,:,0].argmin()][0])\n",
    "    #Punto más a la derecha del polígono\n",
    "    right = tuple(conv_hull[conv_hull[:,:,0].argmax()][0])\n",
    "\n",
    "    #Calculamos el centro de la mano\n",
    "    cX = (left[0] + right[0])//2\n",
    "    cY = (top[1] + bottom[1])//2\n",
    "\n",
    "    #Calculamos la distancia euclídea desde el centro de la mano a los puntos extremos del polígono\n",
    "    distance = pairwise.euclidean_distances([(cX,cY)], Y=[left, right, top, bottom])[0]\n",
    "\n",
    "    #Cálculo de la distancia máxima\n",
    "    max_distance = distance.max()\n",
    "\n",
    "    #Definimos el círculo centrado en el centro de la mano\n",
    "    radius = int(0.7*max_distance)\n",
    "    circumference = (2*np.pi*radius)\n",
    "\n",
    "    #Definimos región de interés del circulo\n",
    "    circular_roi = np.zeros(thresholded.shape[:2], dtype='uint8')\n",
    "\n",
    "    #Dibujamos el circulo\n",
    "    cv2.circle(circular_roi, (cX,cY), radius, 255, 10)\n",
    "\n",
    "    #A la imagen con el threshold aplicado le 'cortamos' la ROI circular\n",
    "    circular_roi = cv2.bitwise_and(thresholded, thresholded, mask=circular_roi)\n",
    "\n",
    "    #Extraemos los contornos a la nueva imagen de la región de interés (ROI) del circulo\n",
    "    contours, hierarchy = cv2.findContours(circular_roi.copy(), cv2.RETR_EXTERNAL, cv2.CHAIN_APPROX_NONE)\n",
    "\n",
    "    #El contador de dedos empezará en 0\n",
    "    count = 0\n",
    "\n",
    "    #Hacemos un loop sobre los contornos extraídos de la ROI del circulo para ver si contamos algún dedo más\n",
    "    for cnt in contours:\n",
    "        \n",
    "        (x,y,w,h) = cv2.boundingRect(cnt)\n",
    "        \n",
    "        #Para contar un dedo se deben de cumplir las siguientes dos condiciones:\n",
    "\n",
    "        #1) La región del contorno encontrado no se trata de la parte inferior de la muñeca\n",
    "        out_of_wrist = (cY +  (cY*0.25)) > (y + h)\n",
    "\n",
    "        #2) El número de puntos a lo largo del contorno no excede el 15% de la circunferencia del ROI circular (de lo contrario estamos contando puntos fuera de la mano)\n",
    "        limit_points = ((circumference*0.15) > cnt.shape[0])\n",
    "\n",
    "        if out_of_wrist and limit_points:\n",
    "            count +=1\n",
    "\n",
    "    return count"
   ]
  },
  {
   "source": [
    "### Código final"
   ],
   "cell_type": "markdown",
   "metadata": {}
  },
  {
   "source": [
    "Una vez definidas las funciones y variables que usaremos en el problema pasamos a construir el bloque que ensamblará todo lo anterior y nos permitirá contar los dedos de la mano:"
   ],
   "cell_type": "markdown",
   "metadata": {}
  },
  {
   "source": [
    "<img src=\"images\\video.png\" alt=\"Drawing\" style=\"width: 300px;\"/>"
   ],
   "cell_type": "markdown",
   "metadata": {}
  },
  {
   "cell_type": "code",
   "execution_count": null,
   "metadata": {},
   "outputs": [],
   "source": [
    "#PROGRAMA FINAL\n",
    "\n",
    "#Activamos nuestra cámara\n",
    "cam = cv2.VideoCapture(0)\n",
    "\n",
    "#Inicializamos nº de frames a 0\n",
    "num_frames = 0\n",
    "\n",
    "#Para guardar el video\n",
    "#width = int(cam.get(cv2.CAP_PROP_FRAME_WIDTH))\n",
    "#height = int(cam.get(cv2.CAP_PROP_FRAME_HEIGHT))\n",
    "#writer = cv2.VideoWriter('Finger Count Video.mp4', cv2.VideoWriter_fourcc(*'DIVX'),25, (width, height))\n",
    "\n",
    "#Grabamos video hasta que sea interrumpido\n",
    "while True:\n",
    "\n",
    "    #Obtenemos el frame actual\n",
    "    ret, frame = cam.read()\n",
    "\n",
    "    #Le damos la vuelta al frame para que no tenga efecto espejo\n",
    "    frame = cv2.flip(frame, 1)\n",
    "    \n",
    "    #Clonamos el frame\n",
    "    frame_copy = frame.copy()\n",
    "\n",
    "    #Extraemos la región de interés definida al principio del proyecto\n",
    "    roi = frame[roi_top:roi_bottom, roi_right:roi_left]\n",
    "\n",
    "    #Convertimos la región de interés a blanco y negro y la emborronamos un poco,\n",
    "    #ya que asi se suelen conseguir mejores resultados\n",
    "    gray = cv2.cvtColor(roi, cv2.COLOR_BGR2GRAY)\n",
    "    gray = cv2.GaussianBlur(gray, (7,7), 0)\n",
    "\n",
    "    #Para los primeros 60 frames calcularemos la media del valor de los pixels del background y mostraremos en el video cuando se está haciendo este cálculo\n",
    "    if num_frames < 60:\n",
    "        calc_accum_avg(gray, accumulated_weight)\n",
    "\n",
    "        if num_frames <= 59:\n",
    "            cv2.putText(frame_copy, \"WAIT! GETTING BACKGROUND AVG.\", (200, 400), cv2.FONT_HERSHEY_SIMPLEX, 1, (0,0,255), 2)\n",
    "            cv2.imshow('Finger Count', frame_copy)\n",
    "\n",
    "    else:\n",
    "\n",
    "        #Ahora que tenemos el fondo podemos extraer la mano\n",
    "        hand = segment(gray)\n",
    "\n",
    "        #Hay que checkear si se ha detectado la mano\n",
    "        if hand is not None:\n",
    "\n",
    "            thresholded, hand_segment = hand\n",
    "\n",
    "            #Dibujamos contornos alrededor de la mano en vivo\n",
    "            cv2.drawContours(frame_copy, [hand_segment + (roi_right, roi_top)], -1, (255, 0, 0), 1)\n",
    "\n",
    "            #Contamos los dedos\n",
    "            fingers = count_fingers(thresholded, hand_segment)\n",
    "\n",
    "            #Mostramos el resultado\n",
    "            cv2.putText(frame_copy, str(fingers), (70,45), cv2.FONT_HERSHEY_SIMPLEX, 1, (0,0,255), 2)\n",
    "\n",
    "            #Mostramos la imagen con el umbral (thresholded)\n",
    "            cv2.imshow('Thresholded', thresholded)\n",
    "        \n",
    "    #Dibujamos el rectángulo de la región de interés\n",
    "    cv2.rectangle(frame_copy, (roi_left, roi_top),(roi_right, roi_bottom), (0,0,255), 5)\n",
    "\n",
    "    #Incrementamos el número de frames para hacer seguimiento\n",
    "    num_frames += 1\n",
    "\n",
    "    #Grabamos el video\n",
    "    #writer.write(frame_copy)\n",
    "\n",
    "    #Mostramos la imagen con la mano segmentada\n",
    "    cv2.imshow('Finger Count', frame_copy)\n",
    "\n",
    "    #Cerramos la visualización al presionar Esc\n",
    "    k = cv2.waitKey(1) & 0xFF\n",
    "\n",
    "    if k == 27:\n",
    "        break\n",
    "\n",
    "#Dejamos de usar la cámara y cerramos todas las ventanas\n",
    "cam.release()\n",
    "writer.release()\n",
    "cv2.destroyAllWindows()"
   ]
  },
  {
   "source": [
    "### Conclusiones"
   ],
   "cell_type": "markdown",
   "metadata": {}
  },
  {
   "source": [
    "Como habéis podido observar, con pocas líneas de código y haciendo uso de 'OpenCV' se pueden hacer proyectos bastante interesantes y atractivos.\n",
    "\n",
    "Si queréis probar el código seguramente tendréis que modificar ciertos parámetros para que se ajuste a la imagen que graba vuestra cámara. Los parámetros más importantes son:\n",
    "- El valor del umbral mínimo (threshold_min) que se introduce a la función 'segment' para decidir cuando un pixel pasa a negro o blanco. Esto dependerá mucho de la ilumicación de vuestra habitación y de la cantidad de objetos que estén apareciendo en pantalla en la ROI.\n",
    "- El radio del circulo centrado en vuestra mano. Dependerá de como de grande o chica sea vuestra mano. Si es chica es aconsejable un valor más bajo.\n",
    "- El número de puntos sobre el contorno de los dedos detectados que no exceda el 15% del perímetro de la ROI del círculo, para asegurarnos que no estamos contando puntos uera de la mano. Igual que antes, dependerá de las dimensiones de vuestra mano.\n",
    "- El nº de frames que debéis de dejar al principio para que calculer el valor medio de los pixels del background de la ROI. Si tenéis un background con mucho movimiento de objetos o cambios bruscos de iluminación es mejor poner más frames.\n",
    "- Por último, elegir otros métodos y parámetros de 'OpenCV'. Esta librería tiene muchisimas opciones que pueden ayudarnos a resolver un mismo problema, por lo que existe infinidad de combinaciones de técnicas y métodos.\n",
    "\n",
    "Espero que hayáis disfrutado con la lectura y qe os haya gustado el proyecto :)"
   ],
   "cell_type": "markdown",
   "metadata": {}
  },
  {
   "cell_type": "code",
   "execution_count": null,
   "metadata": {},
   "outputs": [],
   "source": []
  }
 ]
}